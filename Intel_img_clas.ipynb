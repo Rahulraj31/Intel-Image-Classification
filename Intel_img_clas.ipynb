{
  "nbformat": 4,
  "nbformat_minor": 0,
  "metadata": {
    "colab": {
      "name": "Intel_img_clas.ipynb",
      "provenance": [],
      "collapsed_sections": [],
      "mount_file_id": "1MMs7NXUqOVBoe4571_KA4MxNLzVhFAWq",
      "authorship_tag": "ABX9TyNzM18QQqD90aFMLcekoor8",
      "include_colab_link": true
    },
    "kernelspec": {
      "name": "python3",
      "display_name": "Python 3"
    },
    "language_info": {
      "name": "python"
    }
  },
  "cells": [
    {
      "cell_type": "markdown",
      "metadata": {
        "id": "view-in-github",
        "colab_type": "text"
      },
      "source": [
        "<a href=\"https://colab.research.google.com/github/Rahulraj31/Intel-Image-Classification/blob/main/Intel_img_clas.ipynb\" target=\"_parent\"><img src=\"https://colab.research.google.com/assets/colab-badge.svg\" alt=\"Open In Colab\"/></a>"
      ]
    },
    {
      "cell_type": "markdown",
      "metadata": {
        "id": "_hCxdW0J8uQq"
      },
      "source": [
        "<h1 align=center>Intel Image Classification</h1>"
      ]
    },
    {
      "cell_type": "code",
      "metadata": {
        "id": "Iz2J4xWbMiQQ"
      },
      "source": [
        "import PIL.Image as Image\n",
        "import cv2\n",
        "import numpy as np\n",
        "import pandas as pd\n",
        "\n",
        "import matplotlib.pylab as plt\n",
        "\n",
        "import tensorflow as tf\n",
        "import tensorflow_hub as hub\n",
        "\n",
        "from tensorflow import keras\n",
        "from tensorflow.keras import layers,losses\n",
        "from tensorflow.keras.models import Sequential\n",
        "from keras.preprocessing.image import ImageDataGenerator"
      ],
      "execution_count": 1,
      "outputs": []
    },
    {
      "cell_type": "code",
      "metadata": {
        "id": "ArCaJhQ6Q2EY"
      },
      "source": [
        "import zipfile\n",
        "\n",
        "local_zip = '/content/drive/MyDrive/Colab Notebooks/Intel_Img_Class.zip'\n",
        "zip_ref = zipfile.ZipFile(local_zip, 'r')\n",
        "zip_ref.extractall('/content')\n",
        "zip_ref.close()"
      ],
      "execution_count": 2,
      "outputs": []
    },
    {
      "cell_type": "code",
      "metadata": {
        "id": "iG-OVuJjRJOQ"
      },
      "source": [
        "from pathlib import Path \n",
        "# Define path to the data directory\n",
        "#dir_alldata = \n",
        "\n",
        "# Path to train directory \n",
        "test_data_dir = Path('/content/seg_pred')\n",
        "\n",
        "# Path to validation directory\n",
        "val_data_dir = Path(\"/content/seg_test/seg_test\")\n",
        "\n",
        "# Path to test directory\n",
        "train_data_dir = Path(\"/content/seg_train/seg_train\")\n",
        "\n"
      ],
      "execution_count": 3,
      "outputs": []
    },
    {
      "cell_type": "code",
      "metadata": {
        "id": "mT53Gjw2SDzf"
      },
      "source": [
        "train_images_dict = {\n",
        "    'building': list(train_data_dir.glob('buildings/*')) ,   \n",
        "    'forest': list(train_data_dir.glob('forest/*')),\n",
        "    'glacier': list(train_data_dir.glob('glacier/*')),\n",
        "    'mountain': list(train_data_dir .glob('mountain/*')),\n",
        "    'sea': list(train_data_dir.glob('sea/*')),\n",
        "    'street': list(train_data_dir.glob('street/*')), \n",
        "}\n",
        "\n",
        "\n",
        "val_images_dict = {\n",
        "     'building': list(val_data_dir.glob('buildings/*')) ,   \n",
        "    'forest': list(val_data_dir.glob('forest/*')),\n",
        "    'glacier': list(val_data_dir.glob('glacier/*')),\n",
        "    'mountain': list(val_data_dir .glob('mountain/*')),\n",
        "    'sea': list(val_data_dir.glob('sea/*')),\n",
        "    'street': list(val_data_dir.glob('street/*')), \n",
        "}\n",
        "\n",
        "\n",
        "labels_dict = {\n",
        "     'building': \"building\", \n",
        "    'forest': \"forest\",\n",
        "    'glacier': \"glacier\",\n",
        "    'mountain': \"mountain\",\n",
        "    'sea': \"sea\",\n",
        "    'street': \"street\", \n",
        "}"
      ],
      "execution_count": 4,
      "outputs": []
    },
    {
      "cell_type": "code",
      "metadata": {
        "colab": {
          "base_uri": "https://localhost:8080/"
        },
        "id": "saZV_0zATvW-",
        "outputId": "e3f1ca6b-135b-4319-f564-ab1d0125bbcb"
      },
      "source": [
        "img= cv2.imread(str(train_images_dict['building'][0]))\n",
        "img.shape"
      ],
      "execution_count": 5,
      "outputs": [
        {
          "output_type": "execute_result",
          "data": {
            "text/plain": [
              "(150, 150, 3)"
            ]
          },
          "metadata": {
            "tags": []
          },
          "execution_count": 5
        }
      ]
    },
    {
      "cell_type": "code",
      "metadata": {
        "colab": {
          "base_uri": "https://localhost:8080/"
        },
        "id": "TO4C5nZbT1Pm",
        "outputId": "38e9bae1-affb-4a8b-e7a6-008eb1d9931e"
      },
      "source": [
        "Xtrain, ytrain = [], []\n",
        "for name,images in train_images_dict.items():#returns key , path for each record\n",
        "    for image in images:\n",
        "        img=str(image)\n",
        "    \n",
        "        Xtrain.append(img)\n",
        "        ytrain.append(labels_dict[name])\n",
        "\n",
        "\n",
        "Fseries = pd.Series(Xtrain, name=\"filepaths\",dtype=str)\n",
        "Lseries = pd.Series(ytrain, name=\"labels\",dtype=str)\n",
        "train_data = pd.concat([Fseries,Lseries], axis=1)\n",
        "train_df = pd.DataFrame(train_data)\n",
        "\n",
        "print(train_df[\"labels\"].value_counts())"
      ],
      "execution_count": 6,
      "outputs": [
        {
          "output_type": "stream",
          "text": [
            "mountain    2512\n",
            "glacier     2404\n",
            "street      2382\n",
            "sea         2274\n",
            "forest      2271\n",
            "building    2191\n",
            "Name: labels, dtype: int64\n"
          ],
          "name": "stdout"
        }
      ]
    },
    {
      "cell_type": "code",
      "metadata": {
        "colab": {
          "base_uri": "https://localhost:8080/"
        },
        "id": "frBHTD1yUCr9",
        "outputId": "58f03964-1431-4519-f3ca-4f7c412b17d5"
      },
      "source": [
        "Xval, yval = [], []\n",
        "for name,images in val_images_dict.items():#returns key , path for each record\n",
        "    for image in images:\n",
        "        img=str(image)\n",
        "    \n",
        "        Xval.append(img)\n",
        "        yval.append(labels_dict[name])\n",
        "\n",
        "\n",
        "Fseries = pd.Series(Xval, name=\"filepaths\",dtype=str)\n",
        "Lseries = pd.Series(yval, name=\"labels\",dtype=str)\n",
        "val_data = pd.concat([Fseries,Lseries], axis=1)\n",
        "val_df = pd.DataFrame(val_data)\n",
        "\n",
        "val_df[\"labels\"].value_counts()"
      ],
      "execution_count": 7,
      "outputs": [
        {
          "output_type": "execute_result",
          "data": {
            "text/plain": [
              "glacier     553\n",
              "mountain    525\n",
              "sea         510\n",
              "street      501\n",
              "forest      474\n",
              "building    437\n",
              "Name: labels, dtype: int64"
            ]
          },
          "metadata": {
            "tags": []
          },
          "execution_count": 7
        }
      ]
    },
    {
      "cell_type": "code",
      "metadata": {
        "colab": {
          "base_uri": "https://localhost:8080/"
        },
        "id": "dBQ6rGi4ULj9",
        "outputId": "1bafc92e-9974-46d3-defe-624599ed68ca"
      },
      "source": [
        "#Generate batches of tensor image data with real-time data augmentation.\n",
        "\n",
        "image_gen = ImageDataGenerator(rescale = 1./255,\n",
        "                                \n",
        "                                   rotation_range = 40,\n",
        "                                   shear_range = 0.2,\n",
        "                                   zoom_range = 0.2,\n",
        "                                   width_shift_range = 0.2,\n",
        "                                   height_shift_range = 0.2,\n",
        "                                   horizontal_flip = True,\n",
        "                                   fill_mode = 'nearest'\n",
        "    \n",
        ")\n",
        "val_gen = ImageDataGenerator(rescale = 1./255,\n",
        "                                   zoom_range = 0.2,\n",
        "                                   width_shift_range = 0.2,\n",
        "                                   height_shift_range = 0.2,\n",
        "                                   horizontal_flip = True,\n",
        "                                   fill_mode = 'nearest'\n",
        "    \n",
        ")\n",
        "\n",
        "train = image_gen.flow_from_dataframe(dataframe= train_df,x_col=\"filepaths\",y_col=\"labels\",\n",
        "                                      target_size=(150,150),\n",
        "                                     \n",
        "                                      class_mode=\"categorical\", #used for Sequential Model\n",
        "                                      batch_size=32,\n",
        "                                      shuffle=False            #do not shuffle data\n",
        "                                     )\n",
        "\n",
        "val = val_gen.flow_from_dataframe(dataframe= val_df,x_col=\"filepaths\", y_col=\"labels\",\n",
        "                                    target_size=(150,150),\n",
        "                                   \n",
        "                                    class_mode=\"categorical\",\n",
        "                                    batch_size=32,\n",
        "                                    shuffle=True\n",
        "                                   )"
      ],
      "execution_count": 8,
      "outputs": [
        {
          "output_type": "stream",
          "text": [
            "Found 14034 validated image filenames belonging to 6 classes.\n",
            "Found 3000 validated image filenames belonging to 6 classes.\n"
          ],
          "name": "stdout"
        }
      ]
    },
    {
      "cell_type": "code",
      "metadata": {
        "colab": {
          "base_uri": "https://localhost:8080/"
        },
        "id": "I3gTsbeBUnGO",
        "outputId": "b6350ac2-c705-4b1e-c762-699e2069983f"
      },
      "source": [
        "classes=list(train.class_indices.keys())\n",
        "print (classes)"
      ],
      "execution_count": 9,
      "outputs": [
        {
          "output_type": "stream",
          "text": [
            "['building', 'forest', 'glacier', 'mountain', 'sea', 'street']\n"
          ],
          "name": "stdout"
        }
      ]
    },
    {
      "cell_type": "code",
      "metadata": {
        "id": "r_pDGXSKUw5m"
      },
      "source": [
        "from tensorflow.keras.applications import VGG16\n",
        "\n",
        "cnn_base = VGG16(include_top = False,\n",
        "                 weights = 'imagenet',\n",
        "                 input_shape = (150, 150, 3),\n",
        "                 classes = 6,\n",
        "                 classifier_activation = 'softmax')\n",
        "\n",
        "cnn_base.trainable = False"
      ],
      "execution_count": 10,
      "outputs": []
    },
    {
      "cell_type": "code",
      "metadata": {
        "id": "NlBvhODrU0mF"
      },
      "source": [
        "pretrainedCNN_model = Sequential([\n",
        "                                     cnn_base,\n",
        "                                  layers.Flatten(),\n",
        "                                  layers.Dropout(0.25),\n",
        "                                  layers.Dense(640, activation = 'relu'),\n",
        "                                  layers.Dropout(0.25),\n",
        "                                  layers.Dense(128, activation = 'relu'),\n",
        "                                  layers.Dropout(0.5),\n",
        "                                  layers.Dense(64, activation = 'relu'),\n",
        "                                  layers.Dense(6, activation = 'softmax')  ,  \n",
        "])"
      ],
      "execution_count": 11,
      "outputs": []
    },
    {
      "cell_type": "code",
      "metadata": {
        "id": "1Pge3AUkU6eO"
      },
      "source": [
        "\n",
        "pretrainedCNN_model.compile(\n",
        "    loss=tf.keras.losses.CategoricalCrossentropy(from_logits=False),\n",
        "                            optimizer = keras.optimizers.Adam(0.0001),\n",
        "                            metrics = ['acc'])"
      ],
      "execution_count": 12,
      "outputs": []
    },
    {
      "cell_type": "code",
      "metadata": {
        "colab": {
          "base_uri": "https://localhost:8080/"
        },
        "id": "mTP8cs0AVUGd",
        "outputId": "9c7a70ff-eeed-4dee-fd70-dbb40db5065b"
      },
      "source": [
        "pretrainedCNN_model.summary()"
      ],
      "execution_count": 13,
      "outputs": [
        {
          "output_type": "stream",
          "text": [
            "Model: \"sequential\"\n",
            "_________________________________________________________________\n",
            "Layer (type)                 Output Shape              Param #   \n",
            "=================================================================\n",
            "vgg16 (Functional)           (None, 4, 4, 512)         14714688  \n",
            "_________________________________________________________________\n",
            "flatten (Flatten)            (None, 8192)              0         \n",
            "_________________________________________________________________\n",
            "dropout (Dropout)            (None, 8192)              0         \n",
            "_________________________________________________________________\n",
            "dense (Dense)                (None, 640)               5243520   \n",
            "_________________________________________________________________\n",
            "dropout_1 (Dropout)          (None, 640)               0         \n",
            "_________________________________________________________________\n",
            "dense_1 (Dense)              (None, 128)               82048     \n",
            "_________________________________________________________________\n",
            "dropout_2 (Dropout)          (None, 128)               0         \n",
            "_________________________________________________________________\n",
            "dense_2 (Dense)              (None, 64)                8256      \n",
            "_________________________________________________________________\n",
            "dense_3 (Dense)              (None, 6)                 390       \n",
            "=================================================================\n",
            "Total params: 20,048,902\n",
            "Trainable params: 5,334,214\n",
            "Non-trainable params: 14,714,688\n",
            "_________________________________________________________________\n"
          ],
          "name": "stdout"
        }
      ]
    },
    {
      "cell_type": "code",
      "metadata": {
        "colab": {
          "base_uri": "https://localhost:8080/"
        },
        "id": "l6NDc38OeP1y",
        "outputId": "786e7832-d870-48fe-d013-0eb680e5c351"
      },
      "source": [
        "len(train_df)"
      ],
      "execution_count": 14,
      "outputs": [
        {
          "output_type": "execute_result",
          "data": {
            "text/plain": [
              "14034"
            ]
          },
          "metadata": {
            "tags": []
          },
          "execution_count": 14
        }
      ]
    },
    {
      "cell_type": "markdown",
      "metadata": {
        "id": "xa6gqIht1puY"
      },
      "source": [
        "**ModelCheckpoint callback** is used in conjunction with training using model.fit() to save a model or weights (in a checkpoint file) at some interval, so the model or weights can be loaded later to continue the training from the state saved."
      ]
    },
    {
      "cell_type": "code",
      "metadata": {
        "id": "GhmuTUlT03Pc"
      },
      "source": [
        "model_checkpoint_callback = tf.keras.callbacks.ModelCheckpoint(\n",
        "    filepath=\"/content/temp/checkpoint\",\n",
        "    save_weights_only=True,\n",
        "    monitor='val_acc',\n",
        "    mode='max',\n",
        "    save_best_only=True)\n"
      ],
      "execution_count": 15,
      "outputs": []
    },
    {
      "cell_type": "code",
      "metadata": {
        "colab": {
          "base_uri": "https://localhost:8080/"
        },
        "id": "JmLYq455VVrN",
        "outputId": "6f3ae66a-87e6-4207-8d66-58fc6644da60"
      },
      "source": [
        "History = pretrainedCNN_model.fit(train, validation_data=val, epochs=10,verbose=1,\n",
        "                                  steps_per_epoch=len(train_df)//32,\n",
        "                                  validation_steps=100//32,\n",
        "                                  callbacks=[model_checkpoint_callback])"
      ],
      "execution_count": 16,
      "outputs": [
        {
          "output_type": "stream",
          "text": [
            "Epoch 1/10\n",
            "438/438 [==============================] - 119s 255ms/step - loss: 1.2614 - acc: 0.4847 - val_loss: 0.6934 - val_acc: 0.7604\n",
            "Epoch 2/10\n",
            "438/438 [==============================] - 109s 249ms/step - loss: 0.8629 - acc: 0.6536 - val_loss: 0.7052 - val_acc: 0.7188\n",
            "Epoch 3/10\n",
            "438/438 [==============================] - 108s 245ms/step - loss: 0.7476 - acc: 0.7125 - val_loss: 0.4796 - val_acc: 0.8438\n",
            "Epoch 4/10\n",
            "438/438 [==============================] - 109s 249ms/step - loss: 0.6871 - acc: 0.7390 - val_loss: 0.4336 - val_acc: 0.8958\n",
            "Epoch 5/10\n",
            "438/438 [==============================] - 108s 246ms/step - loss: 0.6550 - acc: 0.7515 - val_loss: 0.4460 - val_acc: 0.8229\n",
            "Epoch 6/10\n",
            "438/438 [==============================] - 107s 245ms/step - loss: 0.6303 - acc: 0.7601 - val_loss: 0.6988 - val_acc: 0.7500\n",
            "Epoch 7/10\n",
            "438/438 [==============================] - 110s 252ms/step - loss: 0.6130 - acc: 0.7684 - val_loss: 0.5767 - val_acc: 0.7812\n",
            "Epoch 8/10\n",
            "438/438 [==============================] - 109s 249ms/step - loss: 0.5844 - acc: 0.7810 - val_loss: 0.5347 - val_acc: 0.8333\n",
            "Epoch 9/10\n",
            "438/438 [==============================] - 110s 251ms/step - loss: 0.5677 - acc: 0.7870 - val_loss: 0.6276 - val_acc: 0.7083\n",
            "Epoch 10/10\n",
            "438/438 [==============================] - 111s 252ms/step - loss: 0.5593 - acc: 0.7915 - val_loss: 0.3705 - val_acc: 0.8750\n"
          ],
          "name": "stdout"
        }
      ]
    },
    {
      "cell_type": "code",
      "metadata": {
        "colab": {
          "base_uri": "https://localhost:8080/",
          "height": 573
        },
        "id": "8nqHGKIu2578",
        "outputId": "9bb31397-fcc1-42fa-e7b2-36c166ec8021"
      },
      "source": [
        "import matplotlib.pyplot as plt\n",
        "%matplotlib inline\n",
        "\n",
        "# plot the loss\n",
        "plt.plot(History.history['loss'])\n",
        "plt.plot(History.history['val_loss'])\n",
        "plt.title('Model Loss')\n",
        "plt.ylabel('loss')\n",
        "plt.xlabel('epoch')\n",
        "plt.legend(['train', 'val'], loc='upper right')\n",
        "plt.show()\n",
        "\n",
        "# plot the accuracy\n",
        "plt.plot(History.history['acc'])\n",
        "plt.plot(History.history['val_acc'])\n",
        "plt.title('Model accuracy')\n",
        "plt.ylabel('accuracy')\n",
        "plt.xlabel('epoch')\n",
        "plt.legend(['train', 'val'], loc='lower right')\n",
        "plt.show()"
      ],
      "execution_count": 17,
      "outputs": [
        {
          "output_type": "display_data",
          "data": {
            "image/png": "[encoded data removed]",
            "text/plain": [
              "<Figure size 432x288 with 1 Axes>"
            ]
          },
          "metadata": {
            "tags": [],
            "needs_background": "light"
          }
        },
        {
          "output_type": "display_data",
          "data": {
            "image/png": "[encoded data removed]",
            "text/plain": [
              "<Figure size 432x288 with 1 Axes>"
            ]
          },
          "metadata": {
            "tags": [],
            "needs_background": "light"
          }
        }
      ]
    },
    {
      "cell_type": "code",
      "metadata": {
        "id": "DTVPAaqRCasD"
      },
      "source": [
        ""
      ],
      "execution_count": 17,
      "outputs": []
    }
  ]
}